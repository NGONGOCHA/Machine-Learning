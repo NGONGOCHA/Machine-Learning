{
  "nbformat": 4,
  "nbformat_minor": 0,
  "metadata": {
    "colab": {
      "provenance": [],
      "authorship_tag": "ABX9TyOyGIqdTrjEKxFMbLj7yQPy",
      "include_colab_link": true
    },
    "kernelspec": {
      "name": "python3",
      "display_name": "Python 3"
    },
    "language_info": {
      "name": "python"
    }
  },
  "cells": [
    {
      "cell_type": "markdown",
      "metadata": {
        "id": "view-in-github",
        "colab_type": "text"
      },
      "source": [
        "<a href=\"https://colab.research.google.com/github/NGONGOCHA/Machine-Learning/blob/main/Ch%C6%B0%C6%A1ng_1_TF_IDF.ipynb\" target=\"_parent\"><img src=\"https://colab.research.google.com/assets/colab-badge.svg\" alt=\"Open In Colab\"/></a>"
      ]
    },
    {
      "cell_type": "markdown",
      "source": [
        "#TF- term frequency – tần số xuất hiện của 1 từ trong 1 văn bản"
      ],
      "metadata": {
        "id": "4xFVjtVomuN1"
      }
    },
    {
      "cell_type": "markdown",
      "source": [
        "Term Frequency là con số thể hiện thuật ngữ đó xuất hiện bao nhiêu lần trong tài liệu này. Nếu thuật ngữ đó xuất hiện càng nhiều thì trọng số càng cao."
      ],
      "metadata": {
        "id": "vdd-MGo9m6MV"
      }
    },
    {
      "cell_type": "markdown",
      "source": [
        "![image.png](data:image/png;base64,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)"
      ],
      "metadata": {
        "id": "PmdEs3llmtL9"
      }
    },
    {
      "cell_type": "markdown",
      "source": [
        "Trong đó:\n",
        "- Thương của số lần xuất hiện 1 từ trong văn bản và số lần xuất hiện nhiều nhất của một từ bất kỳ trong văn bản đó. (giá trị sẽ thuộc khoảng [0, 1])\n",
        "- f(t,d) – số lần xuất hiện từ t trong văn bản d.\n",
        "- max{f(w,d):w∈d} – số lần xuất hiện nhiều nhất của một từ bất kỳ trong văn bản.\n"
      ],
      "metadata": {
        "id": "5AccFmEXmuTa"
      }
    },
    {
      "cell_type": "markdown",
      "source": [
        "#IDF - Inverse Document Frequency(Nghịch đảo tần suất của văn bản)"
      ],
      "metadata": {
        "id": "Z7Ap-lXOfmhP"
      }
    },
    {
      "cell_type": "markdown",
      "source": [
        "IDF: giúp đánh giá tầm quan trọng của một từ. Khi tính toán TF , tất cả các từ được coi như có độ quan trọng bằng nhau. Nhưng  một số từ thường xuất hiện rất nhiều lần nhưng độ quan trọng là không cao. Như thế chúng ta cần giảm độ quan trọng của những từ này xuống."
      ],
      "metadata": {
        "id": "bF4Gm4O4etOP"
      }
    },
    {
      "cell_type": "markdown",
      "source": [
        "![image.png](data:image/png;base64,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)"
      ],
      "metadata": {
        "id": "5gV4OzJroO_1"
      }
    },
    {
      "cell_type": "markdown",
      "source": [
        "Trong đó:\n",
        "\n",
        "- idf(t, D): giá trị idf của từ t trong tập văn bản\n",
        "\n",
        "- |D|: Tổng số văn bản trong tập D\n",
        "\n",
        "- |{d ∈ D : t ∈ d}|: thể hiện số văn bản trong tập D có chứa từ t."
      ],
      "metadata": {
        "id": "sVhgdMxJjPGf"
      }
    },
    {
      "cell_type": "markdown",
      "source": [
        "Cơ số logarit trong công thức này không thay đổi giá trị idf của từ mà chỉ thu hẹp khoảng giá trị của từ đó. Vì thay đổi cơ số sẽ dẫn đến việc giá trị của các từ thay đổi bởi một số nhất định và tỷ lệ giữa các trọng lượng với nhau sẽ không thay đổi. (nói cách khác, thay đổi cơ số sẽ không ảnh hưởng đến tỷ lệ giữa các giá trị IDF). Việc sử dụng logarit nhằm giúp giá trị tf-idf của một từ nhỏ hơn, do chúng ta có công thức tính tf-idf của một từ trong 1 văn bản là tích của tf và idf của từ đó."
      ],
      "metadata": {
        "id": "su_qAidNlZcO"
      }
    },
    {
      "cell_type": "markdown",
      "source": [
        "#Giá trị TF-IDF:"
      ],
      "metadata": {
        "id": "focyuok0nRWt"
      }
    },
    {
      "cell_type": "markdown",
      "source": [
        "![image.png](data:image/png;base64,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)"
      ],
      "metadata": {
        "id": "8jB90F4njrj2"
      }
    },
    {
      "cell_type": "markdown",
      "source": [
        "Những từ có giá trị TF-IDF cao là những từ càng có liên quan trong tài liệu cụ thể."
      ],
      "metadata": {
        "id": "-VLZiCaRlj1W"
      }
    },
    {
      "cell_type": "markdown",
      "source": [
        "#Văn bản tiếng Anh "
      ],
      "metadata": {
        "id": "3MD-3saRRQU8"
      }
    },
    {
      "cell_type": "code",
      "source": [
        "from google.colab import drive\n",
        "drive.mount('/content/drive')"
      ],
      "metadata": {
        "colab": {
          "base_uri": "https://localhost:8080/"
        },
        "id": "WotScQawjuv_",
        "outputId": "3103acd9-5ffb-48b0-e52e-1341a5d2d2f0"
      },
      "execution_count": null,
      "outputs": [
        {
          "output_type": "stream",
          "name": "stdout",
          "text": [
            "Mounted at /content/drive\n"
          ]
        }
      ]
    },
    {
      "cell_type": "code",
      "source": [
        "vbta1 = open('/content/drive/MyDrive/Classroom/Học máy 1 Phần cơ sở/hocmay/corpus-tf-idf/tieng Anh/vb01.txt', encoding='cp1252')\n",
        "vbta2 = open('/content/drive/MyDrive/Classroom/Học máy 1 Phần cơ sở/hocmay/corpus-tf-idf/tieng Anh/vb02.txt', encoding='cp1252')\n",
        "vbta3 = open('/content/drive/MyDrive/Classroom/Học máy 1 Phần cơ sở/hocmay/corpus-tf-idf/tieng Anh/vb03.txt', encoding='cp1252')\n",
        "vbta4 = open('/content/drive/MyDrive/Classroom/Học máy 1 Phần cơ sở/hocmay/corpus-tf-idf/tieng Anh/vb04.txt', encoding='cp1252')\n",
        "vbta5 = open('/content/drive/MyDrive/Classroom/Học máy 1 Phần cơ sở/hocmay/corpus-tf-idf/tieng Anh/vb05.txt', encoding='cp1252')\n",
        "docvbta1 = vbta1.read()\n",
        "docvbta2 = vbta2.read()\n",
        "docvbta3 = vbta3.read()\n",
        "docvbta4 = vbta4.read()\n",
        "docvbta5 = vbta5.read()"
      ],
      "metadata": {
        "id": "LhlRWh5vs6Tm"
      },
      "execution_count": null,
      "outputs": []
    },
    {
      "cell_type": "code",
      "source": [
        "doc1 = docvbta1.split(\" \")\n",
        "doc2 = docvbta2.split(\" \")\n",
        "doc3 = docvbta3.split(\" \")\n",
        "doc4 = docvbta4.split(\" \")\n",
        "doc5 = docvbta5.split(\" \")"
      ],
      "metadata": {
        "id": "WP1Apsmk7oup"
      },
      "execution_count": null,
      "outputs": []
    },
    {
      "cell_type": "code",
      "source": [
        "wordSet = set(doc1).union(set(doc2)).union(set(doc3)).union(set(doc4)).union(set(doc5))"
      ],
      "metadata": {
        "id": "Et6qk_rLWrrl"
      },
      "execution_count": null,
      "outputs": []
    },
    {
      "cell_type": "code",
      "source": [
        "wordDict1 = dict.fromkeys(wordSet, 0) \n",
        "wordDict2 = dict.fromkeys(wordSet, 0) \n",
        "wordDict3 = dict.fromkeys(wordSet, 0) \n",
        "wordDict4 = dict.fromkeys(wordSet, 0) \n",
        "wordDict5 = dict.fromkeys(wordSet, 0) "
      ],
      "metadata": {
        "id": "JO89jdxAXDlV"
      },
      "execution_count": null,
      "outputs": []
    },
    {
      "cell_type": "code",
      "source": [
        "for word in doc1:\n",
        "    wordDict1[word]+=1\n",
        "    \n",
        "for word in doc2:\n",
        "    wordDict2[word]+=1\n",
        "\n",
        "for word in doc3:\n",
        "    wordDict3[word]+=1\n",
        "\n",
        "for word in doc4:\n",
        "    wordDict4[word]+=1\n",
        "\n",
        "for word in doc5:\n",
        "    wordDict5[word]+=1"
      ],
      "metadata": {
        "id": "N-jkJOlP8OKA"
      },
      "execution_count": null,
      "outputs": []
    },
    {
      "cell_type": "code",
      "source": [
        "import pandas as pd\n",
        "pd.DataFrame([wordDict1, wordDict2, wordDict3, wordDict4, wordDict5])"
      ],
      "metadata": {
        "colab": {
          "base_uri": "https://localhost:8080/",
          "height": 299
        },
        "id": "TwrMy2L-YCQD",
        "outputId": "40dad7bc-45ca-43e8-9ec9-32c76585ff49"
      },
      "execution_count": null,
      "outputs": [
        {
          "output_type": "execute_result",
          "data": {
            "text/plain": [
              "   Minh  USD).\\n\\nThe  belonged  (Nha  24/7,”  Improved  10.04  North  \\\n",
              "0     1             0         0     0       0         0      0      0   \n",
              "1     0             0         0     0       0         0      0      1   \n",
              "2     1             0         1     1       0         2      0      0   \n",
              "3     0             0         0     0       1         0      0      0   \n",
              "4     1             1         0     0       0         0      1      0   \n",
              "\n",
              "   rubbish,  I  ...  transfer  Vingroup  Vietcombank  systems,  rounds  \\\n",
              "0         0  0  ...         0         0            0         0       2   \n",
              "1         1  4  ...         1         0            0         0       0   \n",
              "2         0  2  ...         0         0            0         0       0   \n",
              "3         0  0  ...         0         0            0         2       0   \n",
              "4         0  0  ...         0         1            1         0       0   \n",
              "\n",
              "   keeping  caused  speak  up,  cheer  \n",
              "0        0       0      0    0      0  \n",
              "1        0       0      1    1      1  \n",
              "2        0       2      0    0      0  \n",
              "3        1       0      0    0      0  \n",
              "4        0       0      0    0      0  \n",
              "\n",
              "[5 rows x 1090 columns]"
            ],
            "text/html": [
              "\n",
              "  <div id=\"df-6ef50d8f-105d-431b-9cc9-537d79bc2f86\">\n",
              "    <div class=\"colab-df-container\">\n",
              "      <div>\n",
              "<style scoped>\n",
              "    .dataframe tbody tr th:only-of-type {\n",
              "        vertical-align: middle;\n",
              "    }\n",
              "\n",
              "    .dataframe tbody tr th {\n",
              "        vertical-align: top;\n",
              "    }\n",
              "\n",
              "    .dataframe thead th {\n",
              "        text-align: right;\n",
              "    }\n",
              "</style>\n",
              "<table border=\"1\" class=\"dataframe\">\n",
              "  <thead>\n",
              "    <tr style=\"text-align: right;\">\n",
              "      <th></th>\n",
              "      <th>Minh</th>\n",
              "      <th>USD).\\n\\nThe</th>\n",
              "      <th>belonged</th>\n",
              "      <th>(Nha</th>\n",
              "      <th>24/7,”</th>\n",
              "      <th>Improved</th>\n",
              "      <th>10.04</th>\n",
              "      <th>North</th>\n",
              "      <th>rubbish,</th>\n",
              "      <th>I</th>\n",
              "      <th>...</th>\n",
              "      <th>transfer</th>\n",
              "      <th>Vingroup</th>\n",
              "      <th>Vietcombank</th>\n",
              "      <th>systems,</th>\n",
              "      <th>rounds</th>\n",
              "      <th>keeping</th>\n",
              "      <th>caused</th>\n",
              "      <th>speak</th>\n",
              "      <th>up,</th>\n",
              "      <th>cheer</th>\n",
              "    </tr>\n",
              "  </thead>\n",
              "  <tbody>\n",
              "    <tr>\n",
              "      <th>0</th>\n",
              "      <td>1</td>\n",
              "      <td>0</td>\n",
              "      <td>0</td>\n",
              "      <td>0</td>\n",
              "      <td>0</td>\n",
              "      <td>0</td>\n",
              "      <td>0</td>\n",
              "      <td>0</td>\n",
              "      <td>0</td>\n",
              "      <td>0</td>\n",
              "      <td>...</td>\n",
              "      <td>0</td>\n",
              "      <td>0</td>\n",
              "      <td>0</td>\n",
              "      <td>0</td>\n",
              "      <td>2</td>\n",
              "      <td>0</td>\n",
              "      <td>0</td>\n",
              "      <td>0</td>\n",
              "      <td>0</td>\n",
              "      <td>0</td>\n",
              "    </tr>\n",
              "    <tr>\n",
              "      <th>1</th>\n",
              "      <td>0</td>\n",
              "      <td>0</td>\n",
              "      <td>0</td>\n",
              "      <td>0</td>\n",
              "      <td>0</td>\n",
              "      <td>0</td>\n",
              "      <td>0</td>\n",
              "      <td>1</td>\n",
              "      <td>1</td>\n",
              "      <td>4</td>\n",
              "      <td>...</td>\n",
              "      <td>1</td>\n",
              "      <td>0</td>\n",
              "      <td>0</td>\n",
              "      <td>0</td>\n",
              "      <td>0</td>\n",
              "      <td>0</td>\n",
              "      <td>0</td>\n",
              "      <td>1</td>\n",
              "      <td>1</td>\n",
              "      <td>1</td>\n",
              "    </tr>\n",
              "    <tr>\n",
              "      <th>2</th>\n",
              "      <td>1</td>\n",
              "      <td>0</td>\n",
              "      <td>1</td>\n",
              "      <td>1</td>\n",
              "      <td>0</td>\n",
              "      <td>2</td>\n",
              "      <td>0</td>\n",
              "      <td>0</td>\n",
              "      <td>0</td>\n",
              "      <td>2</td>\n",
              "      <td>...</td>\n",
              "      <td>0</td>\n",
              "      <td>0</td>\n",
              "      <td>0</td>\n",
              "      <td>0</td>\n",
              "      <td>0</td>\n",
              "      <td>0</td>\n",
              "      <td>2</td>\n",
              "      <td>0</td>\n",
              "      <td>0</td>\n",
              "      <td>0</td>\n",
              "    </tr>\n",
              "    <tr>\n",
              "      <th>3</th>\n",
              "      <td>0</td>\n",
              "      <td>0</td>\n",
              "      <td>0</td>\n",
              "      <td>0</td>\n",
              "      <td>1</td>\n",
              "      <td>0</td>\n",
              "      <td>0</td>\n",
              "      <td>0</td>\n",
              "      <td>0</td>\n",
              "      <td>0</td>\n",
              "      <td>...</td>\n",
              "      <td>0</td>\n",
              "      <td>0</td>\n",
              "      <td>0</td>\n",
              "      <td>2</td>\n",
              "      <td>0</td>\n",
              "      <td>1</td>\n",
              "      <td>0</td>\n",
              "      <td>0</td>\n",
              "      <td>0</td>\n",
              "      <td>0</td>\n",
              "    </tr>\n",
              "    <tr>\n",
              "      <th>4</th>\n",
              "      <td>1</td>\n",
              "      <td>1</td>\n",
              "      <td>0</td>\n",
              "      <td>0</td>\n",
              "      <td>0</td>\n",
              "      <td>0</td>\n",
              "      <td>1</td>\n",
              "      <td>0</td>\n",
              "      <td>0</td>\n",
              "      <td>0</td>\n",
              "      <td>...</td>\n",
              "      <td>0</td>\n",
              "      <td>1</td>\n",
              "      <td>1</td>\n",
              "      <td>0</td>\n",
              "      <td>0</td>\n",
              "      <td>0</td>\n",
              "      <td>0</td>\n",
              "      <td>0</td>\n",
              "      <td>0</td>\n",
              "      <td>0</td>\n",
              "    </tr>\n",
              "  </tbody>\n",
              "</table>\n",
              "<p>5 rows × 1090 columns</p>\n",
              "</div>\n",
              "      <button class=\"colab-df-convert\" onclick=\"convertToInteractive('df-6ef50d8f-105d-431b-9cc9-537d79bc2f86')\"\n",
              "              title=\"Convert this dataframe to an interactive table.\"\n",
              "              style=\"display:none;\">\n",
              "        \n",
              "  <svg xmlns=\"http://www.w3.org/2000/svg\" height=\"24px\"viewBox=\"0 0 24 24\"\n",
              "       width=\"24px\">\n",
              "    <path d=\"M0 0h24v24H0V0z\" fill=\"none\"/>\n",
              "    <path d=\"M18.56 5.44l.94 2.06.94-2.06 2.06-.94-2.06-.94-.94-2.06-.94 2.06-2.06.94zm-11 1L8.5 8.5l.94-2.06 2.06-.94-2.06-.94L8.5 2.5l-.94 2.06-2.06.94zm10 10l.94 2.06.94-2.06 2.06-.94-2.06-.94-.94-2.06-.94 2.06-2.06.94z\"/><path d=\"M17.41 7.96l-1.37-1.37c-.4-.4-.92-.59-1.43-.59-.52 0-1.04.2-1.43.59L10.3 9.45l-7.72 7.72c-.78.78-.78 2.05 0 2.83L4 21.41c.39.39.9.59 1.41.59.51 0 1.02-.2 1.41-.59l7.78-7.78 2.81-2.81c.8-.78.8-2.07 0-2.86zM5.41 20L4 18.59l7.72-7.72 1.47 1.35L5.41 20z\"/>\n",
              "  </svg>\n",
              "      </button>\n",
              "      \n",
              "  <style>\n",
              "    .colab-df-container {\n",
              "      display:flex;\n",
              "      flex-wrap:wrap;\n",
              "      gap: 12px;\n",
              "    }\n",
              "\n",
              "    .colab-df-convert {\n",
              "      background-color: #E8F0FE;\n",
              "      border: none;\n",
              "      border-radius: 50%;\n",
              "      cursor: pointer;\n",
              "      display: none;\n",
              "      fill: #1967D2;\n",
              "      height: 32px;\n",
              "      padding: 0 0 0 0;\n",
              "      width: 32px;\n",
              "    }\n",
              "\n",
              "    .colab-df-convert:hover {\n",
              "      background-color: #E2EBFA;\n",
              "      box-shadow: 0px 1px 2px rgba(60, 64, 67, 0.3), 0px 1px 3px 1px rgba(60, 64, 67, 0.15);\n",
              "      fill: #174EA6;\n",
              "    }\n",
              "\n",
              "    [theme=dark] .colab-df-convert {\n",
              "      background-color: #3B4455;\n",
              "      fill: #D2E3FC;\n",
              "    }\n",
              "\n",
              "    [theme=dark] .colab-df-convert:hover {\n",
              "      background-color: #434B5C;\n",
              "      box-shadow: 0px 1px 3px 1px rgba(0, 0, 0, 0.15);\n",
              "      filter: drop-shadow(0px 1px 2px rgba(0, 0, 0, 0.3));\n",
              "      fill: #FFFFFF;\n",
              "    }\n",
              "  </style>\n",
              "\n",
              "      <script>\n",
              "        const buttonEl =\n",
              "          document.querySelector('#df-6ef50d8f-105d-431b-9cc9-537d79bc2f86 button.colab-df-convert');\n",
              "        buttonEl.style.display =\n",
              "          google.colab.kernel.accessAllowed ? 'block' : 'none';\n",
              "\n",
              "        async function convertToInteractive(key) {\n",
              "          const element = document.querySelector('#df-6ef50d8f-105d-431b-9cc9-537d79bc2f86');\n",
              "          const dataTable =\n",
              "            await google.colab.kernel.invokeFunction('convertToInteractive',\n",
              "                                                     [key], {});\n",
              "          if (!dataTable) return;\n",
              "\n",
              "          const docLinkHtml = 'Like what you see? Visit the ' +\n",
              "            '<a target=\"_blank\" href=https://colab.research.google.com/notebooks/data_table.ipynb>data table notebook</a>'\n",
              "            + ' to learn more about interactive tables.';\n",
              "          element.innerHTML = '';\n",
              "          dataTable['output_type'] = 'display_data';\n",
              "          await google.colab.output.renderOutput(dataTable, element);\n",
              "          const docLink = document.createElement('div');\n",
              "          docLink.innerHTML = docLinkHtml;\n",
              "          element.appendChild(docLink);\n",
              "        }\n",
              "      </script>\n",
              "    </div>\n",
              "  </div>\n",
              "  "
            ]
          },
          "metadata": {},
          "execution_count": 205
        }
      ]
    },
    {
      "cell_type": "code",
      "source": [
        "def computeTF(wordDict, words):\n",
        "    tfDict = {}\n",
        "    wordslen = len(words)\n",
        "    for word, count in wordDict.items():\n",
        "        tfDict[word] = count/float(wordslen)\n",
        "    return tfDict"
      ],
      "metadata": {
        "id": "qasz0Ysdy-ob"
      },
      "execution_count": null,
      "outputs": []
    },
    {
      "cell_type": "code",
      "source": [
        "tfdoc1 = computeTF(wordDict1, doc1)\n",
        "tfdoc2 = computeTF(wordDict2, doc2)\n",
        "tfdoc3 = computeTF(wordDict3, doc3)\n",
        "tfdoc4 = computeTF(wordDict4, doc4)\n",
        "tfdoc5 = computeTF(wordDict5, doc5)"
      ],
      "metadata": {
        "id": "uRegTguczI-5"
      },
      "execution_count": null,
      "outputs": []
    },
    {
      "cell_type": "code",
      "source": [
        "def computeIDF(docList):\n",
        "    import math\n",
        "    idfDict = {}\n",
        "    N = len(docList)\n",
        "    \n",
        "    idfDict = dict.fromkeys(docList[0].keys(), 0)\n",
        "    for doc in docList:\n",
        "        for word, val in doc.items():\n",
        "            if val > 0:\n",
        "                idfDict[word] += 1\n",
        "    \n",
        "    for word, val in idfDict.items():\n",
        "        idfDict[word] = math.log10(N / float(val))\n",
        "        \n",
        "    return idfDict"
      ],
      "metadata": {
        "id": "N1pckGgkzhuV"
      },
      "execution_count": null,
      "outputs": []
    },
    {
      "cell_type": "code",
      "source": [
        "idfs = computeIDF([wordDict1, wordDict2, wordDict3, wordDict4, wordDict5])"
      ],
      "metadata": {
        "id": "9LTt8CvlZEGH"
      },
      "execution_count": null,
      "outputs": []
    },
    {
      "cell_type": "code",
      "source": [
        "def computeTFIDF(tfDocs, idfs):\n",
        "    tfidf = {}\n",
        "    for word, val in tfDocs.items():\n",
        "        tfidf[word] = val*idfs[word]\n",
        "    return tfidf"
      ],
      "metadata": {
        "id": "ctvpPprTFWAG"
      },
      "execution_count": null,
      "outputs": []
    },
    {
      "cell_type": "code",
      "source": [
        "tfidfDoc1 = computeTFIDF(tfdoc1, idfs)\n",
        "tfidfDoc2 = computeTFIDF(tfdoc2, idfs)\n",
        "tfidfDoc3 = computeTFIDF(tfdoc3, idfs)\n",
        "tfidfDoc4 = computeTFIDF(tfdoc4, idfs)\n",
        "tfidfDoc5 = computeTFIDF(tfdoc5, idfs)"
      ],
      "metadata": {
        "id": "xTZg5IkdQjWh"
      },
      "execution_count": null,
      "outputs": []
    },
    {
      "cell_type": "markdown",
      "source": [
        "#Văn bản tiếng Việt"
      ],
      "metadata": {
        "id": "-e3ItrgRSPgJ"
      }
    },
    {
      "cell_type": "code",
      "source": [
        "vbtv1 = open('/content/drive/MyDrive/Classroom/Học máy 1 Phần cơ sở/hocmay/corpus-tf-idf/tieng Viet/vb01.txt', encoding='cp1252')\n",
        "vbtv2 = open('/content/drive/MyDrive/Classroom/Học máy 1 Phần cơ sở/hocmay/corpus-tf-idf/tieng Viet/vb02.txt', encoding='cp1252')\n",
        "vbtv3 = open('/content/drive/MyDrive/Classroom/Học máy 1 Phần cơ sở/hocmay/corpus-tf-idf/tieng Viet/vb03.txt', encoding='cp1252')\n",
        "vbtv4 = open('/content/drive/MyDrive/Classroom/Học máy 1 Phần cơ sở/hocmay/corpus-tf-idf/tieng Viet/vb04.txt', encoding='cp1252')\n",
        "vbtv5 = open('/content/drive/MyDrive/Classroom/Học máy 1 Phần cơ sở/hocmay/corpus-tf-idf/tieng Viet/vb05.txt', encoding='cp1252')\n",
        "docvbtv1 = vbtv1.read()\n",
        "docvbtv2 = vbtv2.read()\n",
        "docvbtv3 = vbtv3.read()\n",
        "docvbtv4 = vbtv4.read()\n",
        "docvbtv5 = vbtv5.read()"
      ],
      "metadata": {
        "id": "aQN7c8YtdGP7"
      },
      "execution_count": null,
      "outputs": []
    },
    {
      "cell_type": "code",
      "source": [
        "doc1 = docvbtv1.split(\" \")\n",
        "doc2 = docvbtv2.split(\" \")\n",
        "doc3 = docvbtv3.split(\" \")\n",
        "doc4 = docvbtv4.split(\" \")\n",
        "doc5 = docvbtv5.split(\" \")"
      ],
      "metadata": {
        "id": "fOA6I8xkdjFf"
      },
      "execution_count": null,
      "outputs": []
    },
    {
      "cell_type": "code",
      "source": [
        "wordSet = set(doc1).union(set(doc2)).union(set(doc3)).union(set(doc4)).union(set(doc5))"
      ],
      "metadata": {
        "id": "s-z2hmMQdrx8"
      },
      "execution_count": null,
      "outputs": []
    },
    {
      "cell_type": "code",
      "source": [
        "wordDict1 = dict.fromkeys(wordSet, 0) \n",
        "wordDict2 = dict.fromkeys(wordSet, 0) \n",
        "wordDict3 = dict.fromkeys(wordSet, 0) \n",
        "wordDict4 = dict.fromkeys(wordSet, 0) \n",
        "wordDict5 = dict.fromkeys(wordSet, 0) "
      ],
      "metadata": {
        "id": "fwFHYpRTd28s"
      },
      "execution_count": null,
      "outputs": []
    },
    {
      "cell_type": "code",
      "source": [
        "for word in doc1:\n",
        "    wordDict1[word]+=1\n",
        "    \n",
        "for word in doc2:\n",
        "    wordDict2[word]+=1\n",
        "\n",
        "for word in doc3:\n",
        "    wordDict3[word]+=1\n",
        "\n",
        "for word in doc4:\n",
        "    wordDict4[word]+=1\n",
        "\n",
        "for word in doc5:\n",
        "    wordDict5[word]+=1"
      ],
      "metadata": {
        "id": "gT4Pp82fd9ru"
      },
      "execution_count": null,
      "outputs": []
    },
    {
      "cell_type": "code",
      "source": [
        "import pandas as pd\n",
        "pd.DataFrame([wordDict1, wordDict2, wordDict3, wordDict4, wordDict5])"
      ],
      "metadata": {
        "colab": {
          "base_uri": "https://localhost:8080/",
          "height": 235
        },
        "id": "Me-AwEtFd_ge",
        "outputId": "8f09f9e4-b810-49e3-c449-f7ff19f9bc61"
      },
      "execution_count": null,
      "outputs": [
        {
          "output_type": "execute_result",
          "data": {
            "text/plain": [
              "   thay  (spiral  “ð?n  sáng.  ?i  ÐHQG  ty   ?  ng?n  tý?ng  ...  phía  SDSS  \\\n",
              "0     0        0     0      0   0     0   7   1     0      0  ...     0     0   \n",
              "1     0        0     0      0   0     0   0   1     0      0  ...     0     0   \n",
              "2     1        0     1      0   0     0   0   4     0      0  ...     0     0   \n",
              "3     0        1     0      1   1     0   0  22     1      3  ...     5     1   \n",
              "4     0        0     0      0   0     1   0  11     0      0  ...     1     0   \n",
              "\n",
              "   xýa,  Hubble  sáng,  VCCorp  l?t  ð?nh,  ð?ng.  “vi?c  \n",
              "0     0       0      0       4    0      0      0      0  \n",
              "1     0       0      0       0    0      0      1      0  \n",
              "2     0       0      0       0    0      0      0      1  \n",
              "3     1       3      1       0    1      1      0      0  \n",
              "4     0       0      0       0    0      1      0      0  \n",
              "\n",
              "[5 rows x 1184 columns]"
            ],
            "text/html": [
              "\n",
              "  <div id=\"df-5d26a79d-6998-435e-8fe7-1af541b0d96e\">\n",
              "    <div class=\"colab-df-container\">\n",
              "      <div>\n",
              "<style scoped>\n",
              "    .dataframe tbody tr th:only-of-type {\n",
              "        vertical-align: middle;\n",
              "    }\n",
              "\n",
              "    .dataframe tbody tr th {\n",
              "        vertical-align: top;\n",
              "    }\n",
              "\n",
              "    .dataframe thead th {\n",
              "        text-align: right;\n",
              "    }\n",
              "</style>\n",
              "<table border=\"1\" class=\"dataframe\">\n",
              "  <thead>\n",
              "    <tr style=\"text-align: right;\">\n",
              "      <th></th>\n",
              "      <th>thay</th>\n",
              "      <th>(spiral</th>\n",
              "      <th>“ð?n</th>\n",
              "      <th>sáng.</th>\n",
              "      <th>?i</th>\n",
              "      <th>ÐHQG</th>\n",
              "      <th>ty</th>\n",
              "      <th>?</th>\n",
              "      <th>ng?n</th>\n",
              "      <th>tý?ng</th>\n",
              "      <th>...</th>\n",
              "      <th>phía</th>\n",
              "      <th>SDSS</th>\n",
              "      <th>xýa,</th>\n",
              "      <th>Hubble</th>\n",
              "      <th>sáng,</th>\n",
              "      <th>VCCorp</th>\n",
              "      <th>l?t</th>\n",
              "      <th>ð?nh,</th>\n",
              "      <th>ð?ng.</th>\n",
              "      <th>“vi?c</th>\n",
              "    </tr>\n",
              "  </thead>\n",
              "  <tbody>\n",
              "    <tr>\n",
              "      <th>0</th>\n",
              "      <td>0</td>\n",
              "      <td>0</td>\n",
              "      <td>0</td>\n",
              "      <td>0</td>\n",
              "      <td>0</td>\n",
              "      <td>0</td>\n",
              "      <td>7</td>\n",
              "      <td>1</td>\n",
              "      <td>0</td>\n",
              "      <td>0</td>\n",
              "      <td>...</td>\n",
              "      <td>0</td>\n",
              "      <td>0</td>\n",
              "      <td>0</td>\n",
              "      <td>0</td>\n",
              "      <td>0</td>\n",
              "      <td>4</td>\n",
              "      <td>0</td>\n",
              "      <td>0</td>\n",
              "      <td>0</td>\n",
              "      <td>0</td>\n",
              "    </tr>\n",
              "    <tr>\n",
              "      <th>1</th>\n",
              "      <td>0</td>\n",
              "      <td>0</td>\n",
              "      <td>0</td>\n",
              "      <td>0</td>\n",
              "      <td>0</td>\n",
              "      <td>0</td>\n",
              "      <td>0</td>\n",
              "      <td>1</td>\n",
              "      <td>0</td>\n",
              "      <td>0</td>\n",
              "      <td>...</td>\n",
              "      <td>0</td>\n",
              "      <td>0</td>\n",
              "      <td>0</td>\n",
              "      <td>0</td>\n",
              "      <td>0</td>\n",
              "      <td>0</td>\n",
              "      <td>0</td>\n",
              "      <td>0</td>\n",
              "      <td>1</td>\n",
              "      <td>0</td>\n",
              "    </tr>\n",
              "    <tr>\n",
              "      <th>2</th>\n",
              "      <td>1</td>\n",
              "      <td>0</td>\n",
              "      <td>1</td>\n",
              "      <td>0</td>\n",
              "      <td>0</td>\n",
              "      <td>0</td>\n",
              "      <td>0</td>\n",
              "      <td>4</td>\n",
              "      <td>0</td>\n",
              "      <td>0</td>\n",
              "      <td>...</td>\n",
              "      <td>0</td>\n",
              "      <td>0</td>\n",
              "      <td>0</td>\n",
              "      <td>0</td>\n",
              "      <td>0</td>\n",
              "      <td>0</td>\n",
              "      <td>0</td>\n",
              "      <td>0</td>\n",
              "      <td>0</td>\n",
              "      <td>1</td>\n",
              "    </tr>\n",
              "    <tr>\n",
              "      <th>3</th>\n",
              "      <td>0</td>\n",
              "      <td>1</td>\n",
              "      <td>0</td>\n",
              "      <td>1</td>\n",
              "      <td>1</td>\n",
              "      <td>0</td>\n",
              "      <td>0</td>\n",
              "      <td>22</td>\n",
              "      <td>1</td>\n",
              "      <td>3</td>\n",
              "      <td>...</td>\n",
              "      <td>5</td>\n",
              "      <td>1</td>\n",
              "      <td>1</td>\n",
              "      <td>3</td>\n",
              "      <td>1</td>\n",
              "      <td>0</td>\n",
              "      <td>1</td>\n",
              "      <td>1</td>\n",
              "      <td>0</td>\n",
              "      <td>0</td>\n",
              "    </tr>\n",
              "    <tr>\n",
              "      <th>4</th>\n",
              "      <td>0</td>\n",
              "      <td>0</td>\n",
              "      <td>0</td>\n",
              "      <td>0</td>\n",
              "      <td>0</td>\n",
              "      <td>1</td>\n",
              "      <td>0</td>\n",
              "      <td>11</td>\n",
              "      <td>0</td>\n",
              "      <td>0</td>\n",
              "      <td>...</td>\n",
              "      <td>1</td>\n",
              "      <td>0</td>\n",
              "      <td>0</td>\n",
              "      <td>0</td>\n",
              "      <td>0</td>\n",
              "      <td>0</td>\n",
              "      <td>0</td>\n",
              "      <td>1</td>\n",
              "      <td>0</td>\n",
              "      <td>0</td>\n",
              "    </tr>\n",
              "  </tbody>\n",
              "</table>\n",
              "<p>5 rows × 1184 columns</p>\n",
              "</div>\n",
              "      <button class=\"colab-df-convert\" onclick=\"convertToInteractive('df-5d26a79d-6998-435e-8fe7-1af541b0d96e')\"\n",
              "              title=\"Convert this dataframe to an interactive table.\"\n",
              "              style=\"display:none;\">\n",
              "        \n",
              "  <svg xmlns=\"http://www.w3.org/2000/svg\" height=\"24px\"viewBox=\"0 0 24 24\"\n",
              "       width=\"24px\">\n",
              "    <path d=\"M0 0h24v24H0V0z\" fill=\"none\"/>\n",
              "    <path d=\"M18.56 5.44l.94 2.06.94-2.06 2.06-.94-2.06-.94-.94-2.06-.94 2.06-2.06.94zm-11 1L8.5 8.5l.94-2.06 2.06-.94-2.06-.94L8.5 2.5l-.94 2.06-2.06.94zm10 10l.94 2.06.94-2.06 2.06-.94-2.06-.94-.94-2.06-.94 2.06-2.06.94z\"/><path d=\"M17.41 7.96l-1.37-1.37c-.4-.4-.92-.59-1.43-.59-.52 0-1.04.2-1.43.59L10.3 9.45l-7.72 7.72c-.78.78-.78 2.05 0 2.83L4 21.41c.39.39.9.59 1.41.59.51 0 1.02-.2 1.41-.59l7.78-7.78 2.81-2.81c.8-.78.8-2.07 0-2.86zM5.41 20L4 18.59l7.72-7.72 1.47 1.35L5.41 20z\"/>\n",
              "  </svg>\n",
              "      </button>\n",
              "      \n",
              "  <style>\n",
              "    .colab-df-container {\n",
              "      display:flex;\n",
              "      flex-wrap:wrap;\n",
              "      gap: 12px;\n",
              "    }\n",
              "\n",
              "    .colab-df-convert {\n",
              "      background-color: #E8F0FE;\n",
              "      border: none;\n",
              "      border-radius: 50%;\n",
              "      cursor: pointer;\n",
              "      display: none;\n",
              "      fill: #1967D2;\n",
              "      height: 32px;\n",
              "      padding: 0 0 0 0;\n",
              "      width: 32px;\n",
              "    }\n",
              "\n",
              "    .colab-df-convert:hover {\n",
              "      background-color: #E2EBFA;\n",
              "      box-shadow: 0px 1px 2px rgba(60, 64, 67, 0.3), 0px 1px 3px 1px rgba(60, 64, 67, 0.15);\n",
              "      fill: #174EA6;\n",
              "    }\n",
              "\n",
              "    [theme=dark] .colab-df-convert {\n",
              "      background-color: #3B4455;\n",
              "      fill: #D2E3FC;\n",
              "    }\n",
              "\n",
              "    [theme=dark] .colab-df-convert:hover {\n",
              "      background-color: #434B5C;\n",
              "      box-shadow: 0px 1px 3px 1px rgba(0, 0, 0, 0.15);\n",
              "      filter: drop-shadow(0px 1px 2px rgba(0, 0, 0, 0.3));\n",
              "      fill: #FFFFFF;\n",
              "    }\n",
              "  </style>\n",
              "\n",
              "      <script>\n",
              "        const buttonEl =\n",
              "          document.querySelector('#df-5d26a79d-6998-435e-8fe7-1af541b0d96e button.colab-df-convert');\n",
              "        buttonEl.style.display =\n",
              "          google.colab.kernel.accessAllowed ? 'block' : 'none';\n",
              "\n",
              "        async function convertToInteractive(key) {\n",
              "          const element = document.querySelector('#df-5d26a79d-6998-435e-8fe7-1af541b0d96e');\n",
              "          const dataTable =\n",
              "            await google.colab.kernel.invokeFunction('convertToInteractive',\n",
              "                                                     [key], {});\n",
              "          if (!dataTable) return;\n",
              "\n",
              "          const docLinkHtml = 'Like what you see? Visit the ' +\n",
              "            '<a target=\"_blank\" href=https://colab.research.google.com/notebooks/data_table.ipynb>data table notebook</a>'\n",
              "            + ' to learn more about interactive tables.';\n",
              "          element.innerHTML = '';\n",
              "          dataTable['output_type'] = 'display_data';\n",
              "          await google.colab.output.renderOutput(dataTable, element);\n",
              "          const docLink = document.createElement('div');\n",
              "          docLink.innerHTML = docLinkHtml;\n",
              "          element.appendChild(docLink);\n",
              "        }\n",
              "      </script>\n",
              "    </div>\n",
              "  </div>\n",
              "  "
            ]
          },
          "metadata": {},
          "execution_count": 220
        }
      ]
    },
    {
      "cell_type": "code",
      "source": [
        "def computeTF(wordDict, words):\n",
        "    tfDict = {}\n",
        "    wordslen = len(words)\n",
        "    for word, count in wordDict.items():\n",
        "        tfDict[word] = count/float(wordslen)\n",
        "    return tfDict"
      ],
      "metadata": {
        "id": "yOi2leB-eLbi"
      },
      "execution_count": null,
      "outputs": []
    },
    {
      "cell_type": "code",
      "source": [
        "tfdoc1 = computeTF(wordDict1, doc1)\n",
        "tfdoc2 = computeTF(wordDict2, doc2)\n",
        "tfdoc3 = computeTF(wordDict3, doc3)\n",
        "tfdoc4 = computeTF(wordDict4, doc4)\n",
        "tfdoc5 = computeTF(wordDict5, doc5)"
      ],
      "metadata": {
        "id": "xEZYwmisePLP"
      },
      "execution_count": null,
      "outputs": []
    },
    {
      "cell_type": "code",
      "source": [
        "def computeIDF(docList):\n",
        "    import math\n",
        "    idfDict = {}\n",
        "    N = len(docList)\n",
        "    \n",
        "    idfDict = dict.fromkeys(docList[0].keys(), 0)\n",
        "    for doc in docList:\n",
        "        for word, val in doc.items():\n",
        "            if val > 0:\n",
        "                idfDict[word] += 1\n",
        "    \n",
        "    for word, val in idfDict.items():\n",
        "        idfDict[word] = math.log10(N / float(val))\n",
        "        \n",
        "    return idfDict"
      ],
      "metadata": {
        "id": "RBimRtndeXt7"
      },
      "execution_count": null,
      "outputs": []
    },
    {
      "cell_type": "code",
      "source": [
        "idfs = computeIDF([wordDict1, wordDict2, wordDict3, wordDict4, wordDict5])"
      ],
      "metadata": {
        "id": "odRScySDeb0S"
      },
      "execution_count": null,
      "outputs": []
    },
    {
      "cell_type": "code",
      "source": [
        "def computeTFIDF(tfDocs, idfs):\n",
        "    tfidf = {}\n",
        "    for word, val in tfDocs.items():\n",
        "        tfidf[word] = val*idfs[word]\n",
        "    return tfidf"
      ],
      "metadata": {
        "id": "iX1Ybe7qefNo"
      },
      "execution_count": null,
      "outputs": []
    },
    {
      "cell_type": "code",
      "source": [
        "tfidfDoc1 = computeTFIDF(tfdoc1, idfs)\n",
        "tfidfDoc2 = computeTFIDF(tfdoc2, idfs)\n",
        "tfidfDoc3 = computeTFIDF(tfdoc3, idfs)\n",
        "tfidfDoc4 = computeTFIDF(tfdoc4, idfs)\n",
        "tfidfDoc5 = computeTFIDF(tfdoc5, idfs)"
      ],
      "metadata": {
        "id": "yOlDtVbdeibN"
      },
      "execution_count": null,
      "outputs": []
    }
  ]
}