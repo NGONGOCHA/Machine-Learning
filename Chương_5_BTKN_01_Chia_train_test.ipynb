{
  "nbformat": 4,
  "nbformat_minor": 0,
  "metadata": {
    "colab": {
      "provenance": [],
      "authorship_tag": "ABX9TyPPp1/+pExV5bTCCJDr7klc",
      "include_colab_link": true
    },
    "kernelspec": {
      "name": "python3",
      "display_name": "Python 3"
    },
    "language_info": {
      "name": "python"
    }
  },
  "cells": [
    {
      "cell_type": "markdown",
      "metadata": {
        "id": "view-in-github",
        "colab_type": "text"
      },
      "source": [
        "<a href=\"https://colab.research.google.com/github/NGONGOCHA/Machine-Learning/blob/main/Ch%C6%B0%C6%A1ng_5_BTKN_01_Chia_train_test.ipynb\" target=\"_parent\"><img src=\"https://colab.research.google.com/assets/colab-badge.svg\" alt=\"Open In Colab\"/></a>"
      ]
    },
    {
      "cell_type": "code",
      "source": [
        "from google.colab import drive\n",
        "drive.mount('/content/drive')"
      ],
      "metadata": {
        "colab": {
          "base_uri": "https://localhost:8080/"
        },
        "id": "TF0tRuQ_svX-",
        "outputId": "00187e60-6ef0-45a3-9f68-be926b36dc0f"
      },
      "execution_count": 4,
      "outputs": [
        {
          "output_type": "stream",
          "name": "stdout",
          "text": [
            "Mounted at /content/drive\n"
          ]
        }
      ]
    },
    {
      "cell_type": "code",
      "source": [
        "import numpy as np\n",
        "import os\n",
        "from sklearn.model_selection import train_test_split"
      ],
      "metadata": {
        "id": "vCET54Wmsj1k"
      },
      "execution_count": 7,
      "outputs": []
    },
    {
      "cell_type": "markdown",
      "source": [
        "#Dữ liệu 1"
      ],
      "metadata": {
        "id": "zdKgokqJv3Ks"
      }
    },
    {
      "cell_type": "code",
      "execution_count": 12,
      "metadata": {
        "id": "zDJ4hCcPsPey"
      },
      "outputs": [],
      "source": [
        "D = np.loadtxt(os.path.join(\"/content/drive/MyDrive/Classroom/Học máy 1 Phần cơ sở\", \"ex1data1 (1).txt\"), delimiter=',')\n",
        "X, y = D[:,:-1], D[:,-1]\n",
        "X_train, X_test, y_train, y_test = train_test_split(X, y,\n",
        "                                                    test_size=0.30,\n",
        "                                                    random_state=15)"
      ]
    },
    {
      "cell_type": "markdown",
      "source": [
        "#Dữ liệu 2"
      ],
      "metadata": {
        "id": "mZdFG9S1v6lO"
      }
    },
    {
      "cell_type": "code",
      "source": [
        "D = np.loadtxt(os.path.join(\"/content/drive/MyDrive/Classroom/Học máy 1 Phần cơ sở\", \"ex1data2.txt\"), delimiter=',')\n",
        "X, y = D[:,:-1], D[:,-1]\n",
        "X_train, X_test, y_train, y_test = train_test_split(X, y,\n",
        "                                                    test_size=0.30,\n",
        "                                                    random_state=15)"
      ],
      "metadata": {
        "id": "6_5UtbeCvvVk"
      },
      "execution_count": 13,
      "outputs": []
    }
  ]
}