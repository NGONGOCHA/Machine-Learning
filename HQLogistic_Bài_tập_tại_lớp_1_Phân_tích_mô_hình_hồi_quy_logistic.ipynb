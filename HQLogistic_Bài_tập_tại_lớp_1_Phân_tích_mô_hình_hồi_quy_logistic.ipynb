{
  "nbformat": 4,
  "nbformat_minor": 0,
  "metadata": {
    "colab": {
      "provenance": [],
      "authorship_tag": "ABX9TyNYYZ7yFAGvY3LZb/3rGcMI",
      "include_colab_link": true
    },
    "kernelspec": {
      "name": "python3",
      "display_name": "Python 3"
    },
    "language_info": {
      "name": "python"
    }
  },
  "cells": [
    {
      "cell_type": "markdown",
      "metadata": {
        "id": "view-in-github",
        "colab_type": "text"
      },
      "source": [
        "<a href=\"https://colab.research.google.com/github/NGONGOCHA/Machine-Learning/blob/main/HQLogistic_B%C3%A0i_t%E1%BA%ADp_t%E1%BA%A1i_l%E1%BB%9Bp_1_Ph%C3%A2n_t%C3%ADch_m%C3%B4_h%C3%ACnh_h%E1%BB%93i_quy_logistic.ipynb\" target=\"_parent\"><img src=\"https://colab.research.google.com/assets/colab-badge.svg\" alt=\"Open In Colab\"/></a>"
      ]
    },
    {
      "cell_type": "code",
      "execution_count": 5,
      "metadata": {
        "colab": {
          "base_uri": "https://localhost:8080/"
        },
        "id": "VTX8G_QaR6lZ",
        "outputId": "88d321b0-97f8-4620-bf4d-cdb316a82822"
      },
      "outputs": [
        {
          "output_type": "stream",
          "name": "stdout",
          "text": [
            "Mounted at /content/drive\n"
          ]
        }
      ],
      "source": [
        "from google.colab import drive\n",
        "drive.mount('/content/drive')"
      ]
    },
    {
      "cell_type": "code",
      "source": [
        "import numpy as  np\n",
        "import os"
      ],
      "metadata": {
        "id": "kNaPZezxSgr3"
      },
      "execution_count": 6,
      "outputs": []
    },
    {
      "cell_type": "markdown",
      "source": [
        "#Logistic Regression"
      ],
      "metadata": {
        "id": "a3qzwU9YKf0U"
      }
    },
    {
      "cell_type": "code",
      "source": [
        "def readData(filePath: str, filename: str):\n",
        "    data = np.loadtxt(os.path.join(filePath, filename), delimiter = ',')\n",
        "    X = data[:,:-1]\n",
        "    y = data[:, -1]\n",
        "    m = X.shape[0]\n",
        "    n = X.shape[1]\n",
        "    X = np.reshape(X, (m,n))\n",
        "    y = np.reshape(y, (m,1))\n",
        "    #Them cot x0 = 1 vao X\n",
        "    x0 = np.ones((m,1))\n",
        "    X = np.column_stack([x0, X])\n",
        "    return X, y"
      ],
      "metadata": {
        "id": "9zEQcl4zUdTw"
      },
      "execution_count": 7,
      "outputs": []
    },
    {
      "cell_type": "code",
      "source": [
        "def featureVectorScaling(data):\n",
        "    avg = np.mean(data)\n",
        "    sln = data.max()\n",
        "    snn = data.min()\n",
        "    data_scl = (data - avg)/(sln - snn)\n",
        "    print(data_scl[1])\n",
        "    return data_scl\n",
        "\n",
        "def normalizeData(X):\n",
        "    X_scl = X[:, 0]\n",
        "    for i in range(1, X.shape[1]):\n",
        "        scl = featureVectorScaling(X[:, i])\n",
        "        X_scl = np.column_stack([X_scl, scl])\n",
        "    return X_scl"
      ],
      "metadata": {
        "id": "M3E1qfIfUj5a"
      },
      "execution_count": 8,
      "outputs": []
    },
    {
      "cell_type": "code",
      "source": [
        "#Day chinh la ham  hw(X)\n",
        "def sigmoid(X, w):\n",
        "    result = 1/(1 + np.exp(-np.dot(X, w)))\n",
        "    return result"
      ],
      "metadata": {
        "id": "m0l7R9Def2MZ"
      },
      "execution_count": 9,
      "outputs": []
    },
    {
      "cell_type": "code",
      "source": [
        "def loss(X, y, w):\n",
        "    m = y.shape[0]\n",
        "    result = (-1/m)*np.sum(np.dot(y.T, np.log(sigmoid(X, w))) + np.dot((1 - y).T, np.log(1 - sigmoid(X, w))))\n",
        "    return result"
      ],
      "metadata": {
        "id": "qt_sdBlPf4zm"
      },
      "execution_count": 10,
      "outputs": []
    },
    {
      "cell_type": "code",
      "source": [
        "def gradient(X, y, w):\n",
        "    m = X.shape[0]\n",
        "    result = (1/m)*np.dot(X.T, sigmoid(X, w) - y)\n",
        "    return result"
      ],
      "metadata": {
        "id": "1Yl0u91ef8LP"
      },
      "execution_count": 11,
      "outputs": []
    },
    {
      "cell_type": "code",
      "source": [
        "def gradientDescent(X, y, w, alpha, n_iters):\n",
        "    w_optimal = w.copy()\n",
        "    J_history = []\n",
        "    for i in range(n_iters):\n",
        "        w_optimal = w_optimal - alpha*gradient(X, y, w_optimal)\n",
        "        J_history.append(loss(X, y, w_optimal))\n",
        "    return w_optimal, J_history"
      ],
      "metadata": {
        "id": "OsXRCCcff-qQ"
      },
      "execution_count": 12,
      "outputs": []
    },
    {
      "cell_type": "code",
      "source": [
        "def main():\n",
        "    X, y = readData(\"/content/drive/MyDrive/Classroom/Học máy 1 Phần cơ sở\", \"ex2data1.txt\")\n",
        "    X_scl = normalizeData(X)\n",
        "    n = X_scl.shape[1]\n",
        "    w = np.zeros((n, 1))\n",
        "    alpha = 0.01\n",
        "    n_iters = 2000\n",
        "    w_opt, J_hist = gradientDescent(X_scl, y, w, alpha, n_iters)\n",
        "    print(\"Ket qua la: \")\n",
        "    print('\\t\\tTrong so w toi uu la: ', w_opt)\n",
        "    print('\\t\\tGia tri Loss toi uu: ', J_hist[-1])\n",
        "\n",
        "if __name__ == \"__main__\":\n",
        "    main()"
      ],
      "metadata": {
        "colab": {
          "base_uri": "https://localhost:8080/"
        },
        "id": "sCLdriR8gBFX",
        "outputId": "91de9604-ef7b-4724-b435-795fd98dc99c"
      },
      "execution_count": 13,
      "outputs": [
        {
          "output_type": "stream",
          "name": "stdout",
          "text": [
            "-0.5067801656080071\n",
            "-0.3270580397857178\n",
            "Ket qua la: \n",
            "\t\tTrong so w toi uu la:  [[0.41683919]\n",
            " [1.31218868]\n",
            " [1.15423699]]\n",
            "\t\tGia tri Loss toi uu:  0.5186665295508813\n"
          ]
        }
      ]
    },
    {
      "cell_type": "markdown",
      "source": [
        "#Regression_OOP\n"
      ],
      "metadata": {
        "id": "r2EHPov3KppX"
      }
    },
    {
      "cell_type": "code",
      "source": [
        "class Regression:\n",
        "    def __init__(self):\n",
        "        pass\n",
        "    def loss(self, X, y, w):\n",
        "        pass"
      ],
      "metadata": {
        "id": "eX2gPAPDKuCy"
      },
      "execution_count": 1,
      "outputs": []
    },
    {
      "cell_type": "code",
      "execution_count": 2,
      "metadata": {
        "id": "c6dd04bf"
      },
      "outputs": [],
      "source": [
        "class LogisticRegression(Regression):\n",
        "    def __init__(self):\n",
        "        pass\n",
        "    \n",
        "    def __sigmoid(self, X, w):\n",
        "        result = 1/(1 + np.exp(-np.dot(X, w)))\n",
        "        return result\n",
        "\n",
        "    def loss(self, X, y, w):\n",
        "        m = y.shape[0]\n",
        "        result = (-1/m)*np.sum(np.dot(y.T, np.log(self.__sigmoid(X, w))) + np.dot((1 - y).T, np.log(1 - self.__sigmoid(X, w))))\n",
        "        return result\n",
        "\n",
        "    def gradient(self, X, y, w):\n",
        "        m = X.shape[0]\n",
        "        result = (1/m)*np.dot(X.T, self.__sigmoid(X, w) - y)\n",
        "        return result\n",
        "\n",
        "    def gradientDescent(self,X, y, w, alpha, n_iters):\n",
        "        w_optimal = w.copy()\n",
        "        J_history = []\n",
        "        for i in range(n_iters):\n",
        "            w_optimal = w_optimal - alpha*self.gradient(X, y, w_optimal)\n",
        "            J_history.append(self.loss(X, y, w_optimal))\n",
        "        return w_optimal, J_history\n"
      ]
    },
    {
      "cell_type": "code",
      "source": [
        "class DataNorm:\n",
        "    def __init__(self):\n",
        "        pass\n",
        "    def readData(self, filePath: str, filename: str):\n",
        "        data = np.loadtxt(os.path.join(filePath, filename), delimiter = ',')\n",
        "        X = data[:,:-1]\n",
        "        y = data[:, -1]\n",
        "        m = X.shape[0]\n",
        "        n = X.shape[1]\n",
        "        X = np.reshape(X, (m,n))\n",
        "        y = np.reshape(y, (m,1))\n",
        "        #Them cot x0 = 1 vao X\n",
        "        x0 = np.ones((m,1))\n",
        "        X = np.column_stack([x0, X])\n",
        "        return X, y\n",
        "    def normalizeData(self, A):\n",
        "        pass"
      ],
      "metadata": {
        "id": "bw7pdSgJLINx"
      },
      "execution_count": 3,
      "outputs": []
    },
    {
      "cell_type": "code",
      "source": [
        "class MaxMinNorm(DataNorm):\n",
        "    def __init__(self):\n",
        "        pass\n",
        "    \n",
        "    def __MaxMinScaling(self, data):\n",
        "        avg = np.mean(data)\n",
        "        sln = data.max()\n",
        "        snn = data.min()\n",
        "        data_scl = (data - avg)/(sln - snn)\n",
        "        print(data_scl[1])\n",
        "        return data_scl\n",
        "    \n",
        "    def normalizeData(self, X):\n",
        "        X_scl = X[:, 0]\n",
        "        for i in range(1, X.shape[1]):\n",
        "            scl = self.__MaxMinScaling(X[:, i])\n",
        "            X_scl = np.column_stack([X_scl, scl])\n",
        "        return X_scl"
      ],
      "metadata": {
        "id": "HpG1dXNhLLHB"
      },
      "execution_count": 4,
      "outputs": []
    },
    {
      "cell_type": "code",
      "execution_count": 14,
      "metadata": {
        "id": "f07d5121",
        "outputId": "7c190151-3bbe-4030-c881-75a26ea0b7a6",
        "colab": {
          "base_uri": "https://localhost:8080/"
        }
      },
      "outputs": [
        {
          "output_type": "stream",
          "name": "stdout",
          "text": [
            "-0.5067801656080071\n",
            "-0.3270580397857178\n",
            "Ket qua la: \n",
            "\t\tTrong so w toi uu la:  [[0.41683919]\n",
            " [1.31218868]\n",
            " [1.15423699]]\n",
            "\t\tGia tri Loss toi uu:  0.5186665295508813\n"
          ]
        }
      ],
      "source": [
        "def main():\n",
        "    data = MaxMinNorm()\n",
        "    X, y = data.readData('/content/drive/MyDrive/Classroom/Học máy 1 Phần cơ sở', 'ex2data1.txt')\n",
        "    X_scl = data.normalizeData(X)\n",
        "    n = X_scl.shape[1]\n",
        "    w = np.zeros((n, 1))\n",
        "    alpha = 0.01\n",
        "    n_iters = 2000\n",
        "    model = LogisticRegression()\n",
        "    w_opt, J_hist = model.gradientDescent(X_scl, y, w, alpha, n_iters)\n",
        "    print(\"Ket qua la: \")\n",
        "    print('\\t\\tTrong so w toi uu la: ', w_opt)\n",
        "    print('\\t\\tGia tri Loss toi uu: ', J_hist[-1])\n",
        "\n",
        "if __name__ == \"__main__\":\n",
        "    main()"
      ]
    }
  ]
}