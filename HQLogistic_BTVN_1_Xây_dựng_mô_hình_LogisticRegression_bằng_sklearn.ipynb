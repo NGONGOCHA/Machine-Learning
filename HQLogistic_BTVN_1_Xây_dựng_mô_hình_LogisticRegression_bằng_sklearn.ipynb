{
  "nbformat": 4,
  "nbformat_minor": 0,
  "metadata": {
    "colab": {
      "provenance": [],
      "authorship_tag": "ABX9TyO42hr+9jVH8atwKVa+2vRJ",
      "include_colab_link": true
    },
    "kernelspec": {
      "name": "python3",
      "display_name": "Python 3"
    },
    "language_info": {
      "name": "python"
    }
  },
  "cells": [
    {
      "cell_type": "markdown",
      "metadata": {
        "id": "view-in-github",
        "colab_type": "text"
      },
      "source": [
        "<a href=\"https://colab.research.google.com/github/NGONGOCHA/Machine-Learning/blob/main/HQLogistic_BTVN_1_X%C3%A2y_d%E1%BB%B1ng_m%C3%B4_h%C3%ACnh_LogisticRegression_b%E1%BA%B1ng_sklearn.ipynb\" target=\"_parent\"><img src=\"https://colab.research.google.com/assets/colab-badge.svg\" alt=\"Open In Colab\"/></a>"
      ]
    },
    {
      "cell_type": "code",
      "source": [
        "from google.colab import drive\n",
        "drive.mount('/content/drive')"
      ],
      "metadata": {
        "colab": {
          "base_uri": "https://localhost:8080/"
        },
        "id": "fBCypAPlrVbR",
        "outputId": "a58fced1-1ff9-4414-98c2-958bb4b35985"
      },
      "execution_count": 1,
      "outputs": [
        {
          "output_type": "stream",
          "name": "stdout",
          "text": [
            "Mounted at /content/drive\n"
          ]
        }
      ]
    },
    {
      "cell_type": "code",
      "source": [
        "import os\n",
        "import numpy as np\n",
        "from sklearn.preprocessing import MinMaxScaler\n",
        "from sklearn.linear_model import LogisticRegression"
      ],
      "metadata": {
        "id": "woy5fKhFrQW3"
      },
      "execution_count": 2,
      "outputs": []
    },
    {
      "cell_type": "markdown",
      "source": [
        "#Dữ liệu 1"
      ],
      "metadata": {
        "id": "NkzgyytjrmW9"
      }
    },
    {
      "cell_type": "code",
      "execution_count": 3,
      "metadata": {
        "colab": {
          "base_uri": "https://localhost:8080/"
        },
        "id": "vxIzXFzZqqZi",
        "outputId": "bce364c5-aae7-4a1b-af4b-8bec591a68aa"
      },
      "outputs": [
        {
          "output_type": "stream",
          "name": "stdout",
          "text": [
            "Kích thước của tập dữ liệu:  (100, 3)\n",
            "Lấy ra tập dữ liệu X, y\n",
            "Thực hiện MinMaxScaler\n",
            "Kích thước tập X:  (100, 2)\n",
            "Kích thước vector y:  (100,)\n",
            "Huấn luyện mô hình LogisticRegression\n",
            "\t\tw optimal:  [[3.12281937 2.82347911]]\n"
          ]
        }
      ],
      "source": [
        "D = np.loadtxt(os.path.join(\"/content/drive/MyDrive/Classroom/Học máy 1 Phần cơ sở\", \"ex2data1.txt\"),\n",
        "delimiter=\",\")\n",
        "print('Kích thước của tập dữ liệu: ', D.shape)\n",
        "print('Lấy ra tập dữ liệu X, y')\n",
        "X, y = D[:,:-1], D[:, -1]\n",
        "print('Thực hiện MinMaxScaler')\n",
        "#Khởi tạo bộ điều chỉnh dữ liệu\n",
        "scaler = MinMaxScaler()\n",
        "#Phải thực hiện thao tác fit(data) trước khi điều chỉnh dữ liệu\n",
        "scaler.fit(X)\n",
        "#Thực hiện điều chỉnh dữ liệu trên X, không điều chỉnh với y\n",
        "X = scaler.transform(X)\n",
        "print('Kích thước tập X: ', X.shape)\n",
        "print('Kích thước vector y: ', y.shape)\n",
        "print('Huấn luyện mô hình LogisticRegression')\n",
        "#Khởi tạo mô hình\n",
        "model = LogisticRegression()\n",
        "#Huấn luyện mô hình với tập dữ liệu X, y\n",
        "model.fit(X,y)\n",
        "#Bộ trọng số tối ưu:\n",
        "print('\\t\\tw optimal: ', model.coef_)"
      ]
    },
    {
      "cell_type": "markdown",
      "source": [
        "#Dữ liệu 2"
      ],
      "metadata": {
        "id": "HAMDOxJdrpGQ"
      }
    },
    {
      "cell_type": "code",
      "source": [
        "D = np.loadtxt(os.path.join(\"/content/drive/MyDrive/Classroom/Học máy 1 Phần cơ sở\", \"ex2data2.txt\"),\n",
        "delimiter=\",\")\n",
        "print('Kích thước của tập dữ liệu: ', D.shape)\n",
        "print('Lấy ra tập dữ liệu X, y')\n",
        "X, y = D[:,:-1], D[:, -1]\n",
        "print('Thực hiện MinMaxScaler')\n",
        "#Khởi tạo bộ điều chỉnh dữ liệu\n",
        "scaler = MinMaxScaler()\n",
        "#Phải thực hiện thao tác fit(data) trước khi điều chỉnh dữ liệu\n",
        "scaler.fit(X)\n",
        "#Thực hiện điều chỉnh dữ liệu trên X, không điều chỉnh với y\n",
        "X = scaler.transform(X)\n",
        "print('Kích thước tập X: ', X.shape)\n",
        "print('Kích thước vector y: ', y.shape)\n",
        "print('Huấn luyện mô hình LogisticRegression')\n",
        "#Khởi tạo mô hình\n",
        "model = LogisticRegression()\n",
        "#Huấn luyện mô hình với tập dữ liệu X, y\n",
        "model.fit(X,y)\n",
        "#Bộ trọng số tối ưu:\n",
        "print('\\t\\tw optimal: ', model.coef_)"
      ],
      "metadata": {
        "colab": {
          "base_uri": "https://localhost:8080/"
        },
        "id": "qmOzz8GFrq8l",
        "outputId": "3c2bb18f-dc08-4906-cf12-a54a29802c59"
      },
      "execution_count": 4,
      "outputs": [
        {
          "output_type": "stream",
          "name": "stdout",
          "text": [
            "Kích thước của tập dữ liệu:  (118, 3)\n",
            "Lấy ra tập dữ liệu X, y\n",
            "Thực hiện MinMaxScaler\n",
            "Kích thước tập X:  (118, 2)\n",
            "Kích thước vector y:  (118,)\n",
            "Huấn luyện mô hình LogisticRegression\n",
            "\t\tw optimal:  [[-0.38064537 -0.00581758]]\n"
          ]
        }
      ]
    }
  ]
}