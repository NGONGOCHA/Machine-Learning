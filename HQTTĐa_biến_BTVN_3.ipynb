{
  "nbformat": 4,
  "nbformat_minor": 0,
  "metadata": {
    "colab": {
      "provenance": [],
      "authorship_tag": "ABX9TyOVW6eXHQL6iqhkQhZCacEW",
      "include_colab_link": true
    },
    "kernelspec": {
      "name": "python3",
      "display_name": "Python 3"
    },
    "language_info": {
      "name": "python"
    }
  },
  "cells": [
    {
      "cell_type": "markdown",
      "metadata": {
        "id": "view-in-github",
        "colab_type": "text"
      },
      "source": [
        "<a href=\"https://colab.research.google.com/github/NGONGOCHA/Machine-Learning/blob/main/HQTT%C4%90a_bi%E1%BA%BFn_BTVN_3.ipynb\" target=\"_parent\"><img src=\"https://colab.research.google.com/assets/colab-badge.svg\" alt=\"Open In Colab\"/></a>"
      ]
    },
    {
      "cell_type": "code",
      "source": [
        "from google.colab import drive\n",
        "drive.mount('/content/drive')"
      ],
      "metadata": {
        "colab": {
          "base_uri": "https://localhost:8080/"
        },
        "id": "OfkuLDoRMfqb",
        "outputId": "4e7ef27e-a279-4d9b-fb34-980ba942e180"
      },
      "execution_count": 1,
      "outputs": [
        {
          "output_type": "stream",
          "name": "stdout",
          "text": [
            "Mounted at /content/drive\n"
          ]
        }
      ]
    },
    {
      "cell_type": "code",
      "source": [
        "import os\n",
        "import numpy as np\n",
        "from sklearn.preprocessing import MinMaxScaler\n",
        "from sklearn.linear_model import LinearRegression"
      ],
      "metadata": {
        "id": "L2GtbjtaP-3L"
      },
      "execution_count": 4,
      "outputs": []
    },
    {
      "cell_type": "markdown",
      "source": [
        "#Dữ liệu 1"
      ],
      "metadata": {
        "id": "PseqBpHWQBQS"
      }
    },
    {
      "cell_type": "code",
      "source": [
        "D = np.loadtxt(os.path.join(\"/content/drive/MyDrive/Classroom/Học máy 1 Phần cơ sở\", \"ex1data1 (1).txt\"),\n",
        "delimiter=\",\")\n",
        "print('Kích thước của tập dữ liệu: ', D.shape)\n",
        "print('Thực hiện MinMaxScaler')\n",
        "#Khởi tạo bộ điều chỉnh dữ liệu\n",
        "scaler = MinMaxScaler()\n",
        "#Phải thực hiện thao tác fit(data) trước khi điều chỉnh dữ liệu\n",
        "scaler.fit(D)\n",
        "#Thực hiện điều chỉnh dữ liệu\n",
        "D = scaler.transform(D)\n",
        "print('Lấy ra tập dữ liệu X, y')\n",
        "X, y = D[:,:-1], D[:, -1]\n",
        "print('Kích thước tập X: ', X.shape)\n",
        "print('Kích thước vector y: ', y.shape)\n",
        "print('Huấn luyện mô hình LinearRegression')\n",
        "#Khởi tạo mô hình\n",
        "model = LinearRegression()\n",
        "#Huấn luyện mô hình với tập dữ liệu X, y\n",
        "model.fit(X,y)\n",
        "#Bộ trọng số tối ưu:\n",
        "print('\\t\\tw optimal: ', model.coef_)"
      ],
      "metadata": {
        "colab": {
          "base_uri": "https://localhost:8080/"
        },
        "id": "422GwggVPkMP",
        "outputId": "24c6cd14-2445-4053-93b8-fd8e70024053"
      },
      "execution_count": 3,
      "outputs": [
        {
          "output_type": "stream",
          "name": "stdout",
          "text": [
            "Kích thước của tập dữ liệu:  (97, 2)\n",
            "Thực hiện MinMaxScaler\n",
            "Lấy ra tập dữ liệu X, y\n",
            "Kích thước tập X:  (97, 1)\n",
            "Kích thước vector y:  (97,)\n",
            "Huấn luyện mô hình LinearRegression\n",
            "\t\tw optimal:  [0.7638249]\n"
          ]
        }
      ]
    },
    {
      "cell_type": "markdown",
      "source": [
        "#Dữ liệu 2"
      ],
      "metadata": {
        "id": "WeedsKOqQFgB"
      }
    },
    {
      "cell_type": "code",
      "execution_count": 5,
      "metadata": {
        "colab": {
          "base_uri": "https://localhost:8080/"
        },
        "id": "-JPvH1exPTxY",
        "outputId": "5d32637f-e249-40d6-bd22-dce0fd889d3f"
      },
      "outputs": [
        {
          "output_type": "stream",
          "name": "stdout",
          "text": [
            "Kích thước của tập dữ liệu:  (47, 3)\n",
            "Thực hiện MinMaxScaler\n",
            "Lấy ra tập dữ liệu X, y\n",
            "Kích thước tập X:  (47, 2)\n",
            "Kích thước vector y:  (47,)\n",
            "Huấn luyện mô hình LinearRegression\n",
            "\t\tw optimal:  [ 0.95241114 -0.06594731]\n"
          ]
        }
      ],
      "source": [
        "D = np.loadtxt(os.path.join(\"/content/drive/MyDrive/Classroom/Học máy 1 Phần cơ sở\", \"ex1data2.txt\"),\n",
        "delimiter=\",\")\n",
        "print('Kích thước của tập dữ liệu: ', D.shape)\n",
        "print('Thực hiện MinMaxScaler')\n",
        "#Khởi tạo bộ điều chỉnh dữ liệu\n",
        "scaler = MinMaxScaler()\n",
        "#Phải thực hiện thao tác fit(data) trước khi điều chỉnh dữ liệu\n",
        "scaler.fit(D)\n",
        "#Thực hiện điều chỉnh dữ liệu\n",
        "D = scaler.transform(D)\n",
        "print('Lấy ra tập dữ liệu X, y')\n",
        "X, y = D[:,:-1], D[:, -1]\n",
        "print('Kích thước tập X: ', X.shape)\n",
        "print('Kích thước vector y: ', y.shape)\n",
        "print('Huấn luyện mô hình LinearRegression')\n",
        "#Khởi tạo mô hình\n",
        "model = LinearRegression()\n",
        "#Huấn luyện mô hình với tập dữ liệu X, y\n",
        "model.fit(X,y)\n",
        "#Bộ trọng số tối ưu:\n",
        "print('\\t\\tw optimal: ', model.coef_)"
      ]
    }
  ]
}