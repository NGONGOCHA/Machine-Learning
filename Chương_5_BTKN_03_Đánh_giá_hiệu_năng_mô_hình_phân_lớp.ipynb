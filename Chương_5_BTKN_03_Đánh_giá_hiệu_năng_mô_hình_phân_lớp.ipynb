{
  "nbformat": 4,
  "nbformat_minor": 0,
  "metadata": {
    "colab": {
      "provenance": [],
      "authorship_tag": "ABX9TyOuFoUrbkTdu59ysKaFlGtY",
      "include_colab_link": true
    },
    "kernelspec": {
      "name": "python3",
      "display_name": "Python 3"
    },
    "language_info": {
      "name": "python"
    }
  },
  "cells": [
    {
      "cell_type": "markdown",
      "metadata": {
        "id": "view-in-github",
        "colab_type": "text"
      },
      "source": [
        "<a href=\"https://colab.research.google.com/github/NGONGOCHA/Machine-Learning/blob/main/Ch%C6%B0%C6%A1ng_5_BTKN_03_%C4%90%C3%A1nh_gi%C3%A1_hi%E1%BB%87u_n%C4%83ng_m%C3%B4_h%C3%ACnh_ph%C3%A2n_l%E1%BB%9Bp.ipynb\" target=\"_parent\"><img src=\"https://colab.research.google.com/assets/colab-badge.svg\" alt=\"Open In Colab\"/></a>"
      ]
    },
    {
      "cell_type": "code",
      "source": [
        "from google.colab import drive\n",
        "drive.mount('/content/drive')"
      ],
      "metadata": {
        "colab": {
          "base_uri": "https://localhost:8080/"
        },
        "id": "ODdwRbMwj9Vd",
        "outputId": "b1508c32-27a1-4503-b5c4-10c8b40ee1e5"
      },
      "execution_count": 1,
      "outputs": [
        {
          "output_type": "stream",
          "name": "stdout",
          "text": [
            "Mounted at /content/drive\n"
          ]
        }
      ]
    },
    {
      "cell_type": "code",
      "execution_count": 3,
      "metadata": {
        "colab": {
          "base_uri": "https://localhost:8080/"
        },
        "id": "5mnKx_j6jyJI",
        "outputId": "2f2a6333-4e3f-4132-cc9c-9687f83b0ea0"
      },
      "outputs": [
        {
          "output_type": "stream",
          "name": "stdout",
          "text": [
            "-0.5067801656080071\n",
            "-0.3270580397857178\n",
            "Ket qua huan luyen mo hinh la: \n",
            "\t\tTrong so w toi uu la:  [[0.32456757]\n",
            " [1.22630673]\n",
            " [1.26036079]]\n",
            "\t\tGia tri Loss toi uu:  0.526112202365058\n",
            "Ket qua du doan cua mo hinh\n",
            "\t\tMột số kết quả dự đoán:  [[1.]\n",
            " [1.]\n",
            " [1.]\n",
            " [1.]\n",
            " [1.]]\n",
            "\t\tChỉ số Accuracy:  0.8666666666666667\n",
            "\t\tSử dụng sklearn, Acc:  0.8666666666666667\n"
          ]
        }
      ],
      "source": [
        "import numpy as np\n",
        "import os\n",
        "from sklearn.model_selection import train_test_split\n",
        "from sklearn.metrics import accuracy_score\n",
        "\n",
        "def readData(filePath: str, filename: str):\n",
        "    data = np.loadtxt(os.path.join(filePath, filename), delimiter = ',')\n",
        "    X = data[:,:-1]\n",
        "    y = data[:, -1]\n",
        "    m = X.shape[0]\n",
        "    n = X.shape[1]\n",
        "    X = np.reshape(X, (m,n))\n",
        "    y = np.reshape(y, (m,1))\n",
        "    #Them cot x0 = 1 vao X\n",
        "    x0 = np.ones((m,1))\n",
        "    X = np.column_stack([x0, X])\n",
        "    return X, y\n",
        "\n",
        "def featureVectorScaling(data):\n",
        "    avg = np.mean(data)\n",
        "    sln = data.max()\n",
        "    snn = data.min()\n",
        "    data_scl = (data - avg)/(sln - snn)\n",
        "    print(data_scl[1])\n",
        "    return data_scl\n",
        "\n",
        "def normalizeData(X):\n",
        "    X_scl = X[:, 0]\n",
        "    for i in range(1, X.shape[1]):\n",
        "        scl = featureVectorScaling(X[:, i])\n",
        "        X_scl = np.column_stack([X_scl, scl])\n",
        "    return X_scl\n",
        "\n",
        "#Day chinh la ham  hw(X)\n",
        "def sigmoid(X, w):\n",
        "    result = 1/(1 + np.exp(-np.dot(X, w)))\n",
        "    return result\n",
        "\n",
        "def loss(X, y, w):\n",
        "    m = y.shape[0]\n",
        "    result = (-1/m)*np.sum(np.dot(y.T, np.log(sigmoid(X, w))) + np.dot((1 - y).T, np.log(1 - sigmoid(X, w))))\n",
        "    return result\n",
        "\n",
        "def gradient(X, y, w):\n",
        "    m = X.shape[0]\n",
        "    result = (1/m)*np.dot(X.T, sigmoid(X, w) - y)\n",
        "    return result\n",
        "\n",
        "def gradientDescent(X, y, w, alpha, n_iters):\n",
        "    w_optimal = w.copy()\n",
        "    J_history = []\n",
        "    for i in range(n_iters):\n",
        "        w_optimal = w_optimal - alpha*gradient(X, y, w_optimal)\n",
        "        J_history.append(loss(X, y, w_optimal))\n",
        "    return w_optimal, J_history\n",
        "\n",
        "#Hàm dự đoán nếu y_pred >=0.5 làm tròn thành 1, ngược lại là 0\n",
        "def predict(y_pred):\n",
        "    return np.rint(y_pred)\n",
        "\n",
        "def acc_score(y, y_hat):\n",
        "    m = y.shape[0]\n",
        "    result = (1/m)*np.sum(y == y_hat)\n",
        "    return  result\n",
        "\n",
        "def top_k_accuracy_score(y_true,y_score,k):\n",
        "  n = y_true.shape[0]\n",
        "  result = (1/n)*np.sum(k(y_true == y_score))\n",
        "  return result\n",
        "\n",
        "def balanced_acc(y,y_hat,w):\n",
        "  result = (1/w)*np.sum(1(y_hat == y)*w)\n",
        "  return result \n",
        "\n",
        "def main():\n",
        "    X, y = readData('/content/drive/MyDrive/Classroom/Học máy 1 Phần cơ sở', 'ex2data1.txt')\n",
        "    X = normalizeData(X)\n",
        "    n = X.shape[1]\n",
        "    w = np.zeros((n, 1))\n",
        "    alpha = 0.01\n",
        "    n_iters = 2000\n",
        "    #Chia train - test\n",
        "    X_train, X_test, y_train, y_test = train_test_split(X, y,\n",
        "                                                        test_size=0.30,\n",
        "                                                        random_state=15)\n",
        "    w_opt, J_hist = gradientDescent(X_train, y_train, w, alpha, n_iters)\n",
        "    print(\"Ket qua huan luyen mo hinh la: \")\n",
        "    print('\\t\\tTrong so w toi uu la: ', w_opt)\n",
        "    print('\\t\\tGia tri Loss toi uu: ', J_hist[-1])\n",
        "    print('Ket qua du doan cua mo hinh')\n",
        "    y_hat = predict(sigmoid(X_test, w_opt))\n",
        "    print('\\t\\tMột số kết quả dự đoán: ', y_hat[:5,:])\n",
        "    print('\\t\\tChỉ số Accuracy: ', acc_score(y_test, y_hat))\n",
        "    print('\\t\\tSử dụng sklearn, Acc: ', accuracy_score(y_test.flatten(), y_hat.flatten()))\n",
        "\n",
        "if __name__ == \"__main__\":\n",
        "    main()"
      ]
    }
  ]
}